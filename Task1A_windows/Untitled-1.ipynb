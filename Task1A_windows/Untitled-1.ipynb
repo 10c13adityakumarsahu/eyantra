{
 "cells": [
  {
   "cell_type": "code",
   "execution_count": 1,
   "metadata": {},
   "outputs": [
    {
     "name": "stdout",
     "output_type": "stream",
     "text": [
      "Defaulting to user installation because normal site-packages is not writeable\n",
      "Collecting opencv_python\n",
      "  Obtaining dependency information for opencv_python from https://files.pythonhosted.org/packages/ec/6c/fab8113424af5049f85717e8e527ca3773299a3c6b02506e66436e19874f/opencv_python-4.10.0.84-cp37-abi3-win_amd64.whl.metadata\n",
      "  Downloading opencv_python-4.10.0.84-cp37-abi3-win_amd64.whl.metadata (20 kB)\n",
      "Requirement already satisfied: numpy>=1.21.2 in c:\\users\\shree\\appdata\\roaming\\python\\python312\\site-packages (from opencv_python) (1.26.4)\n",
      "Downloading opencv_python-4.10.0.84-cp37-abi3-win_amd64.whl (38.8 MB)\n",
      "   ---------------------------------------- 0.0/38.8 MB ? eta -:--:--\n",
      "   ---------------------------------------- 0.1/38.8 MB 1.7 MB/s eta 0:00:24\n",
      "   ---------------------------------------- 0.4/38.8 MB 4.9 MB/s eta 0:00:08\n",
      "    --------------------------------------- 0.8/38.8 MB 7.5 MB/s eta 0:00:06\n",
      "   - -------------------------------------- 1.3/38.8 MB 8.3 MB/s eta 0:00:05\n",
      "   - -------------------------------------- 1.8/38.8 MB 8.9 MB/s eta 0:00:05\n",
      "   -- ------------------------------------- 2.3/38.8 MB 9.6 MB/s eta 0:00:04\n",
      "   -- ------------------------------------- 2.8/38.8 MB 9.9 MB/s eta 0:00:04\n",
      "   --- ------------------------------------ 3.3/38.8 MB 10.0 MB/s eta 0:00:04\n",
      "   --- ------------------------------------ 3.8/38.8 MB 10.4 MB/s eta 0:00:04\n",
      "   ---- ----------------------------------- 4.2/38.8 MB 10.4 MB/s eta 0:00:04\n",
      "   ---- ----------------------------------- 4.7/38.8 MB 10.7 MB/s eta 0:00:04\n",
      "   ----- ---------------------------------- 5.1/38.8 MB 10.9 MB/s eta 0:00:04\n",
      "   ----- ---------------------------------- 5.6/38.8 MB 10.8 MB/s eta 0:00:04\n",
      "   ------ --------------------------------- 6.1/38.8 MB 10.9 MB/s eta 0:00:03\n",
      "   ------ --------------------------------- 6.6/38.8 MB 11.1 MB/s eta 0:00:03\n",
      "   ------- -------------------------------- 7.1/38.8 MB 11.0 MB/s eta 0:00:03\n",
      "   ------- -------------------------------- 7.5/38.8 MB 11.0 MB/s eta 0:00:03\n",
      "   -------- ------------------------------- 8.1/38.8 MB 11.0 MB/s eta 0:00:03\n",
      "   -------- ------------------------------- 8.5/38.8 MB 11.1 MB/s eta 0:00:03\n",
      "   --------- ------------------------------ 9.1/38.8 MB 11.2 MB/s eta 0:00:03\n",
      "   --------- ------------------------------ 9.6/38.8 MB 11.3 MB/s eta 0:00:03\n",
      "   ---------- ----------------------------- 10.1/38.8 MB 11.4 MB/s eta 0:00:03\n",
      "   ---------- ----------------------------- 10.6/38.8 MB 11.9 MB/s eta 0:00:03\n",
      "   ----------- ---------------------------- 11.1/38.8 MB 11.9 MB/s eta 0:00:03\n",
      "   ----------- ---------------------------- 11.6/38.8 MB 11.7 MB/s eta 0:00:03\n",
      "   ------------ --------------------------- 12.2/38.8 MB 11.9 MB/s eta 0:00:03\n",
      "   ------------- -------------------------- 12.7/38.8 MB 11.9 MB/s eta 0:00:03\n",
      "   ------------- -------------------------- 13.3/38.8 MB 11.9 MB/s eta 0:00:03\n",
      "   -------------- ------------------------- 13.9/38.8 MB 11.9 MB/s eta 0:00:03\n",
      "   -------------- ------------------------- 14.4/38.8 MB 11.7 MB/s eta 0:00:03\n",
      "   --------------- ------------------------ 15.0/38.8 MB 11.9 MB/s eta 0:00:03\n",
      "   --------------- ------------------------ 15.5/38.8 MB 11.9 MB/s eta 0:00:02\n",
      "   ---------------- ----------------------- 16.1/38.8 MB 11.9 MB/s eta 0:00:02\n",
      "   ----------------- ---------------------- 16.6/38.8 MB 11.9 MB/s eta 0:00:02\n",
      "   ----------------- ---------------------- 17.2/38.8 MB 11.7 MB/s eta 0:00:02\n",
      "   ------------------ --------------------- 17.7/38.8 MB 11.9 MB/s eta 0:00:02\n",
      "   ------------------ --------------------- 18.2/38.8 MB 11.9 MB/s eta 0:00:02\n",
      "   ------------------- -------------------- 18.8/38.8 MB 11.9 MB/s eta 0:00:02\n",
      "   ------------------- -------------------- 19.3/38.8 MB 11.9 MB/s eta 0:00:02\n",
      "   -------------------- ------------------- 19.9/38.8 MB 11.9 MB/s eta 0:00:02\n",
      "   --------------------- ------------------ 20.4/38.8 MB 11.9 MB/s eta 0:00:02\n",
      "   --------------------- ------------------ 21.0/38.8 MB 11.9 MB/s eta 0:00:02\n",
      "   ---------------------- ----------------- 21.6/38.8 MB 11.7 MB/s eta 0:00:02\n",
      "   ---------------------- ----------------- 22.1/38.8 MB 11.9 MB/s eta 0:00:02\n",
      "   ----------------------- ---------------- 22.6/38.8 MB 11.9 MB/s eta 0:00:02\n",
      "   ----------------------- ---------------- 23.2/38.8 MB 11.9 MB/s eta 0:00:02\n",
      "   ------------------------ --------------- 23.6/38.8 MB 11.9 MB/s eta 0:00:02\n",
      "   ------------------------ --------------- 24.1/38.8 MB 11.7 MB/s eta 0:00:02\n",
      "   ------------------------- -------------- 24.6/38.8 MB 11.9 MB/s eta 0:00:02\n",
      "   ------------------------- -------------- 25.2/38.8 MB 11.7 MB/s eta 0:00:02\n",
      "   -------------------------- ------------- 25.7/38.8 MB 11.7 MB/s eta 0:00:02\n",
      "   --------------------------- ------------ 26.2/38.8 MB 11.7 MB/s eta 0:00:02\n",
      "   --------------------------- ------------ 26.8/38.8 MB 11.7 MB/s eta 0:00:02\n",
      "   ---------------------------- ----------- 27.3/38.8 MB 11.9 MB/s eta 0:00:01\n",
      "   ---------------------------- ----------- 27.8/38.8 MB 11.9 MB/s eta 0:00:01\n",
      "   ----------------------------- ---------- 28.3/38.8 MB 11.7 MB/s eta 0:00:01\n",
      "   ----------------------------- ---------- 28.7/38.8 MB 11.7 MB/s eta 0:00:01\n",
      "   ------------------------------ --------- 29.3/38.8 MB 11.7 MB/s eta 0:00:01\n",
      "   ------------------------------ --------- 29.7/38.8 MB 11.7 MB/s eta 0:00:01\n",
      "   ------------------------------- -------- 30.3/38.8 MB 11.7 MB/s eta 0:00:01\n",
      "   ------------------------------- -------- 30.8/38.8 MB 11.9 MB/s eta 0:00:01\n",
      "   -------------------------------- ------- 31.4/38.8 MB 11.7 MB/s eta 0:00:01\n",
      "   -------------------------------- ------- 31.9/38.8 MB 11.9 MB/s eta 0:00:01\n",
      "   --------------------------------- ------ 32.5/38.8 MB 11.7 MB/s eta 0:00:01\n",
      "   ---------------------------------- ----- 33.0/38.8 MB 11.7 MB/s eta 0:00:01\n",
      "   ---------------------------------- ----- 33.6/38.8 MB 11.7 MB/s eta 0:00:01\n",
      "   ----------------------------------- ---- 34.2/38.8 MB 11.7 MB/s eta 0:00:01\n",
      "   ----------------------------------- ---- 34.7/38.8 MB 11.9 MB/s eta 0:00:01\n",
      "   ------------------------------------ --- 35.3/38.8 MB 11.7 MB/s eta 0:00:01\n",
      "   ------------------------------------ --- 35.9/38.8 MB 11.7 MB/s eta 0:00:01\n",
      "   ------------------------------------- -- 36.4/38.8 MB 11.9 MB/s eta 0:00:01\n",
      "   -------------------------------------- - 37.0/38.8 MB 11.7 MB/s eta 0:00:01\n",
      "   -------------------------------------- - 37.5/38.8 MB 11.7 MB/s eta 0:00:01\n",
      "   ---------------------------------------  38.0/38.8 MB 11.7 MB/s eta 0:00:01\n",
      "   ---------------------------------------  38.5/38.8 MB 11.9 MB/s eta 0:00:01\n",
      "   ---------------------------------------  38.8/38.8 MB 11.9 MB/s eta 0:00:01\n",
      "   ---------------------------------------  38.8/38.8 MB 11.9 MB/s eta 0:00:01\n",
      "   ---------------------------------------- 38.8/38.8 MB 10.9 MB/s eta 0:00:00\n",
      "Installing collected packages: opencv_python\n",
      "Successfully installed opencv_python-4.10.0.84\n",
      "Note: you may need to restart the kernel to use updated packages.\n"
     ]
    },
    {
     "name": "stderr",
     "output_type": "stream",
     "text": [
      "\n",
      "[notice] A new release of pip is available: 23.2.1 -> 24.2\n",
      "[notice] To update, run: python.exe -m pip install --upgrade pip\n"
     ]
    }
   ],
   "source": [
    "pip install opencv_python"
   ]
  },
  {
   "cell_type": "code",
   "execution_count": 2,
   "metadata": {},
   "outputs": [],
   "source": [
    "import cv2 \n",
    "import uuid \n",
    "import os \n",
    "import time"
   ]
  },
  {
   "cell_type": "code",
   "execution_count": 3,
   "metadata": {},
   "outputs": [],
   "source": [
    "labels=['thumbsup' , 'thumbsdown' ,' thankyou ','livelong' ]\n",
    "number_img = 5"
   ]
  },
  {
   "cell_type": "code",
   "execution_count": null,
   "metadata": {},
   "outputs": [],
   "source": [
    "IMAGES_PATH = os.path.join('tenserflow')"
   ]
  },
  {
   "cell_type": "code",
   "execution_count": 4,
   "metadata": {},
   "outputs": [],
   "source": [
    "from tensorflow import keras "
   ]
  },
  {
   "cell_type": "code",
   "execution_count": 1,
   "metadata": {},
   "outputs": [
    {
     "name": "stdout",
     "output_type": "stream",
     "text": [
      "Defaulting to user installation because normal site-packages is not writeable\n",
      "Requirement already satisfied: sympy in c:\\users\\shree\\appdata\\roaming\\python\\python312\\site-packages (1.12)\n",
      "Requirement already satisfied: mpmath>=0.19 in c:\\users\\shree\\appdata\\roaming\\python\\python312\\site-packages (from sympy) (1.3.0)\n",
      "Note: you may need to restart the kernel to use updated packages.\n"
     ]
    },
    {
     "name": "stderr",
     "output_type": "stream",
     "text": [
      "\n",
      "[notice] A new release of pip is available: 23.2.1 -> 24.2\n",
      "[notice] To update, run: python.exe -m pip install --upgrade pip\n"
     ]
    }
   ],
   "source": [
    "pip install sympy \n"
   ]
  },
  {
   "cell_type": "code",
   "execution_count": 2,
   "metadata": {},
   "outputs": [],
   "source": [
    "import sympy as sp"
   ]
  },
  {
   "cell_type": "code",
   "execution_count": 3,
   "metadata": {},
   "outputs": [
    {
     "name": "stdout",
     "output_type": "stream",
     "text": [
      "Sum: x**2 + x + y**2 + 2*y\n",
      "Product: (x + 2*y)*(x**2 + y**2)\n"
     ]
    }
   ],
   "source": [
    "from sympy import symbols, expand, factor, simplify\n",
    "\n",
    "# Define symbolic variables\n",
    "x, y = symbols('x y')\n",
    "\n",
    "# Basic operations\n",
    "expr = x + 2*y\n",
    "expr2 = x**2 + y**2\n",
    "\n",
    "# Add expressions\n",
    "sum_expr = expr + expr2\n",
    "\n",
    "# Multiply expressions\n",
    "prod_expr = expr * expr2\n",
    "\n",
    "print(\"Sum:\", sum_expr)\n",
    "print(\"Product:\", prod_expr)\n"
   ]
  },
  {
   "cell_type": "code",
   "execution_count": 4,
   "metadata": {},
   "outputs": [
    {
     "name": "stdout",
     "output_type": "stream",
     "text": [
      "Matrix Product:\n",
      " Matrix([[4, 4], [10, 8]])\n",
      "Determinant of A: -2\n"
     ]
    }
   ],
   "source": [
    "from sympy import Matrix\n",
    "\n",
    "# Define matrices\n",
    "A = Matrix([[1, 2], [3, 4]])\n",
    "B = Matrix([[2, 0], [1, 2]])\n",
    "\n",
    "# Matrix multiplication\n",
    "product = A * B\n",
    "print(\"Matrix Product:\\n\", product)\n",
    "\n",
    "# Matrix determinant\n",
    "det_A = A.det()\n",
    "print(\"Determinant of A:\", det_A)\n",
    "\n"
   ]
  }
 ],
 "metadata": {
  "kernelspec": {
   "display_name": "Python 3",
   "language": "python",
   "name": "python3"
  },
  "language_info": {
   "codemirror_mode": {
    "name": "ipython",
    "version": 3
   },
   "file_extension": ".py",
   "mimetype": "text/x-python",
   "name": "python",
   "nbconvert_exporter": "python",
   "pygments_lexer": "ipython3",
   "version": "3.12.1"
  }
 },
 "nbformat": 4,
 "nbformat_minor": 2
}
